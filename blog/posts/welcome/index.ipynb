{
  "cells": [
    {
      "cell_type": "raw",
      "id": "247b62fc",
      "metadata": {},
      "source": [
        "---\n",
        "title: \"Welcome To My Blog\"\n",
        "author: \"Tristan O'Malley\"\n",
        "date: \"2023-03-28\"\n",
        "categories: [news]\n",
        "---"
      ]
    },
    {
      "cell_type": "markdown",
      "id": "2d843a09",
      "metadata": {},
      "source": [
        "This is the first post in a Quarto blog. Welcome!\n",
        "\n",
        "![](thumbnail.jpg)\n"
      ]
    },
    {
      "cell_type": "code",
      "execution_count": null,
      "id": "76ea707c",
      "metadata": {},
      "outputs": [],
      "source": [
        "import pandas as pd\n",
        "import matplotlib.pyplot as plt\n",
        "\n",
        "# Load the Datasaurus Dozen datasets\n",
        "datasaurus = pd.read_csv('https://raw.githubusercontent.com/plotly/datasets/master/datasaurus.csv')\n",
        "\n",
        "# Plot each of the datasets\n",
        "fig, axes = plt.subplots(nrows=4, ncols=3, figsize=(10, 10))\n",
        "axes = axes.flatten()\n",
        "\n",
        "for i, (name, group) in enumerate(datasaurus.groupby('dataset')):\n",
        "    ax = axes[i]\n",
        "    ax.scatter(group.x, group.y, s=10)\n",
        "    ax.set_title(name)\n",
        "\n",
        "# Add overall title and adjust layout\n",
        "fig.suptitle('The Datasaurus Dozen')\n",
        "fig.tight_layout()\n",
        "fig.subplots_adjust(top=0.92)\n",
        "\n",
        "# Display the plot\n",
        "plt.show()"
      ]
    },
    {
      "cell_type": "markdown",
      "id": "72c3862d",
      "metadata": {},
      "source": [
        "Since this post doesn't specify an explicit `image`, the first image in the post will be used in the listing page of posts."
      ]
    }
  ],
  "metadata": {
    "kernelspec": {
      "display_name": "Python 3 (ipykernel)",
      "language": "python",
      "name": "python3"
    },
    "language_info": {
      "name": "python",
      "version": "3.9.6"
    }
  },
  "nbformat": 4,
  "nbformat_minor": 5
}
